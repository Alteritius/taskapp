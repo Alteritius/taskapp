{
 "cells": [
  {
   "cell_type": "markdown",
   "id": "83d101b6",
   "metadata": {},
   "source": [
    "# Statystyka z Pandas\n",
    "## Analiza i wizualizacja danych - Pandas, Data Frame\n",
    "### Rok akad. 2022/2023, WSB w Chorzowe"
   ]
  },
  {
   "cell_type": "markdown",
   "id": "99f0cbcc",
   "metadata": {},
   "source": [
    "Pandas udostępnia kilka funkcji i metod statystycznej analizy danych."
   ]
  },
  {
   "cell_type": "code",
   "execution_count": 96,
   "id": "802a9757",
   "metadata": {},
   "outputs": [],
   "source": [
    "#Załadowanie bibliotek\n",
    "import pandas as pd\n",
    "import numpy as np\n",
    "import matplotlib.pyplot as plt\n",
    "from scipy.stats import shapiro\n",
    "from scipy.stats import ttest_ind\n",
    "import statsmodels.api as sm\n",
    "from statsmodels.formula.api import ols\n",
    "from statsmodels.graphics.gofplots import qqplot"
   ]
  },
  {
   "cell_type": "markdown",
   "id": "f552b0fe",
   "metadata": {},
   "source": [
    "# 1. Podstawowe statystyki"
   ]
  },
  {
   "cell_type": "markdown",
   "id": "f7e15215",
   "metadata": {},
   "source": [
    "Niektóre z najczęściej używanych funkcji statystycznych:\n",
    "\n",
    "- `decribe()` - zapewnia podsumowanie statystyk ramki danych lub serii, w tym liczbę, średnią, odchylenie standardowe, minimum, maksimum i kwartyle\n",
    "\n",
    "- `mean()` - oblicza średnią obiektu DataFrame lub Series\n",
    "\n",
    "- `median()` - oblicza medianę obiektu DataFrame lub Series\n",
    "\n",
    "- `mode()` - oblicza modę obiektu DataFrame lub Series\n",
    "\n",
    "- `var()` - oblicza wariancję obiektu DataFrame lub Series\n",
    "\n",
    "- `std()` - oblicza odchylenie standardowe obiektu DataFrame lub Series\n",
    "\n",
    "- `corr()` - oblicza korelację między kolumnami DataFrame\n",
    "\n",
    "- `cov()` - oblicza kowariancję między kolumnami DataFrame\n",
    "\n",
    "- `quantile()` - oblicza określony kwantyl obiektu DataFrame lub Series\n",
    "\n",
    "- `skew()` - oblicza skośność obiektu DataFrame lub Series\n",
    "\n",
    "- `kurtosis()` - oblicza kurtozę obiektu DataFrame lub Series"
   ]
  },
  {
   "cell_type": "markdown",
   "id": "4124c20e",
   "metadata": {},
   "source": [
    "### Przykład 1. Mediana\n",
    "Mediana reprezentuje środkową wartość zbioru danych, gdy wartości są sortowane w porządku rosnącym lub malejącym. Aby obliczyć medianę, możemy użyć funkcji `median()`, która zwraca medianę wartości w DataFrame lub Series."
   ]
  },
  {
   "cell_type": "code",
   "execution_count": 18,
   "id": "944e046b",
   "metadata": {},
   "outputs": [
    {
     "data": {
      "text/html": [
       "<div>\n",
       "<style scoped>\n",
       "    .dataframe tbody tr th:only-of-type {\n",
       "        vertical-align: middle;\n",
       "    }\n",
       "\n",
       "    .dataframe tbody tr th {\n",
       "        vertical-align: top;\n",
       "    }\n",
       "\n",
       "    .dataframe thead th {\n",
       "        text-align: right;\n",
       "    }\n",
       "</style>\n",
       "<table border=\"1\" class=\"dataframe\">\n",
       "  <thead>\n",
       "    <tr style=\"text-align: right;\">\n",
       "      <th></th>\n",
       "      <th>A</th>\n",
       "      <th>B</th>\n",
       "    </tr>\n",
       "  </thead>\n",
       "  <tbody>\n",
       "    <tr>\n",
       "      <th>0</th>\n",
       "      <td>1</td>\n",
       "      <td>6</td>\n",
       "    </tr>\n",
       "    <tr>\n",
       "      <th>1</th>\n",
       "      <td>2</td>\n",
       "      <td>7</td>\n",
       "    </tr>\n",
       "    <tr>\n",
       "      <th>2</th>\n",
       "      <td>3</td>\n",
       "      <td>8</td>\n",
       "    </tr>\n",
       "    <tr>\n",
       "      <th>3</th>\n",
       "      <td>4</td>\n",
       "      <td>9</td>\n",
       "    </tr>\n",
       "    <tr>\n",
       "      <th>4</th>\n",
       "      <td>5</td>\n",
       "      <td>10</td>\n",
       "    </tr>\n",
       "  </tbody>\n",
       "</table>\n",
       "</div>"
      ],
      "text/plain": [
       "   A   B\n",
       "0  1   6\n",
       "1  2   7\n",
       "2  3   8\n",
       "3  4   9\n",
       "4  5  10"
      ]
     },
     "execution_count": 18,
     "metadata": {},
     "output_type": "execute_result"
    }
   ],
   "source": [
    "# Utworzenie DataFrame\n",
    "df = pd.DataFrame({'A': [1, 2, 3, 4, 5], 'B': [6, 7, 8, 9, 10]})\n",
    "df"
   ]
  },
  {
   "cell_type": "code",
   "execution_count": 19,
   "id": "9d777134",
   "metadata": {},
   "outputs": [
    {
     "name": "stdout",
     "output_type": "stream",
     "text": [
      "Median of column A: 3.0\n",
      "Median of column B: 8.0\n",
      "Median of the DataFrame:\n",
      " A    3.0\n",
      "B    8.0\n",
      "dtype: float64\n"
     ]
    }
   ],
   "source": [
    "# Obliczanie mediany kolumny 'A'\n",
    "median_A = df['A'].median()\n",
    "print(\"Median of column A:\", median_A)\n",
    "\n",
    "# Obliczanie mediany kolumny 'B'\n",
    "median_B = df['B'].median()\n",
    "print(\"Median of column B:\", median_B)\n",
    "\n",
    "# Obliczanie mediany kolumny całej DataFrame\n",
    "median_df = df.median()\n",
    "print(\"Median of the DataFrame:\\n\", median_df)"
   ]
  },
  {
   "cell_type": "markdown",
   "id": "78b4d19d",
   "metadata": {},
   "source": [
    "### Przykład 2. Moda\n",
    "Moda reprezentuje najczęściej występującą wartość w zbiorze danych. Możemy ją obliczyć tryb za pomocą funkcji `mode()`, która zwraca tryb DataFrame lub Series."
   ]
  },
  {
   "cell_type": "code",
   "execution_count": 27,
   "id": "a099d66c",
   "metadata": {},
   "outputs": [],
   "source": [
    "# Utworzenie DataFrame\n",
    "df = pd.DataFrame({'A': [1, 2, 9, 3, 4, 4], 'B': [5, 6, 6, 7, 8, 8]})"
   ]
  },
  {
   "cell_type": "code",
   "execution_count": 28,
   "id": "862f2fe9",
   "metadata": {},
   "outputs": [
    {
     "name": "stdout",
     "output_type": "stream",
     "text": [
      "Mode of column A: 0    4\n",
      "Name: A, dtype: int64\n",
      "Mode of column B: 0    6\n",
      "1    8\n",
      "Name: B, dtype: int64\n"
     ]
    }
   ],
   "source": [
    "# Obliczanie mody kolumny 'A'\n",
    "mode_A = df['A'].mode()\n",
    "print(\"Mode of column A:\", mode_A)\n",
    "\n",
    "# Obliczanie mody kolumny 'B'\n",
    "mode_B = df['B'].mode()\n",
    "print(\"Mode of column B:\", mode_B)\n"
   ]
  },
  {
   "cell_type": "markdown",
   "id": "31cdaa8f",
   "metadata": {},
   "source": [
    "### Przykład 3. Wariancja\n",
    "Wariancja jest miarą rozłożenia wartości w zbiorze danych od średniej.  Możemy ją obliczyć za pomocą funkcji `var()`, która zwraca wariancję DataFrame lub Series."
   ]
  },
  {
   "cell_type": "code",
   "execution_count": 33,
   "id": "0c3be25b",
   "metadata": {},
   "outputs": [],
   "source": [
    "# Utworzenie DataFrame\n",
    "df = pd.DataFrame({'A': [1, 2, 3, 4, 5], 'B': [6, 7, 8, 9, 10]})"
   ]
  },
  {
   "cell_type": "code",
   "execution_count": 34,
   "id": "aab014ab",
   "metadata": {},
   "outputs": [
    {
     "name": "stdout",
     "output_type": "stream",
     "text": [
      "Variance of column A: 2.5\n",
      "Variance of column B: 2.5\n",
      "Variance of the DataFrame:\n",
      " A    2.5\n",
      "B    2.5\n",
      "dtype: float64\n"
     ]
    }
   ],
   "source": [
    "# Obliczanie wariancji kolumny 'A'\n",
    "var_A = df['A'].var()\n",
    "print(\"Variance of column A:\", var_A)\n",
    "\n",
    "# Obliczanie wariancji kolumny 'B'\n",
    "var_B = df['B'].var()\n",
    "print(\"Variance of column B:\", var_B)\n",
    "\n",
    "# Obliczanie wariancji całego obiektu DataFrame\n",
    "var_df = df.var()\n",
    "print(\"Variance of the DataFrame:\\n\", var_df)\n"
   ]
  },
  {
   "cell_type": "markdown",
   "id": "a39d234c",
   "metadata": {},
   "source": [
    "### Przykład 4. Korelacja\n",
    "Korelacja jest miarą związku między dwiema zmiennymi. Możemy obliczyć korelację między kolumnami DataFrame za pomocą funkcji `corr()`, która zwraca macierz korelacji."
   ]
  },
  {
   "cell_type": "code",
   "execution_count": 59,
   "id": "42a89748",
   "metadata": {},
   "outputs": [],
   "source": [
    "# Utworzenie DataFrame\n",
    "df = pd.DataFrame({'A': [1, 2, 3, 4, 5], 'B': [6, 7, 8, 9, 10], 'C': [11, 12, 13, 14, 15]})"
   ]
  },
  {
   "cell_type": "code",
   "execution_count": 60,
   "id": "b13ba6f6",
   "metadata": {},
   "outputs": [
    {
     "name": "stdout",
     "output_type": "stream",
     "text": [
      "Correlation between columns A and B: 0.9999999999999999\n",
      "Correlation matrix:\n",
      "      A    B    C\n",
      "A  1.0  1.0  1.0\n",
      "B  1.0  1.0  1.0\n",
      "C  1.0  1.0  1.0\n"
     ]
    }
   ],
   "source": [
    "# Obliczanie korelacji pomiędzy kolumnami 'A' i 'B'\n",
    "corr_AB = df['A'].corr(df['B'])\n",
    "print(\"Correlation between columns A and B:\", corr_AB)\n",
    "\n",
    "# Obliczanie korelacji pomiędzy kolumnami dla całego obiektu DataFrame\n",
    "corr_matrix = df.corr()\n",
    "print(\"Correlation matrix:\\n\", corr_matrix)\n"
   ]
  },
  {
   "cell_type": "markdown",
   "id": "354bf450",
   "metadata": {},
   "source": [
    "### Przykład 5. Kowariancja\n",
    "Kowariancja jest miarą wspólnej zmienności dwóch zmiennych losowych. Możemy obliczyć kowariancję między kolumnami DataFrame za pomocą funkcji `cov()`, która zwraca macierz kowariancji."
   ]
  },
  {
   "cell_type": "code",
   "execution_count": 61,
   "id": "cfef3d59",
   "metadata": {},
   "outputs": [],
   "source": [
    "# Utworzenie DataFrame\n",
    "df = pd.DataFrame({'A': [1, 2, 3, 4, 5], 'B': [6, 7, 8, 9, 10], 'C': [11, 12, 13, 14, 15]})\n"
   ]
  },
  {
   "cell_type": "code",
   "execution_count": 62,
   "id": "ee34ce25",
   "metadata": {},
   "outputs": [
    {
     "name": "stdout",
     "output_type": "stream",
     "text": [
      "Covariance between columns A and B: 2.5\n",
      "Covariance matrix:\n",
      "      A    B    C\n",
      "A  2.5  2.5  2.5\n",
      "B  2.5  2.5  2.5\n",
      "C  2.5  2.5  2.5\n"
     ]
    }
   ],
   "source": [
    "# Obliczanie kowariancji pomiędzy kolumnami 'A' i 'B'\n",
    "cov_AB = df['A'].cov(df['B'])\n",
    "print(\"Covariance between columns A and B:\", cov_AB)\n",
    "\n",
    "# Obliczanie kowariancji pomiędzy kolumnami dla całego obiektu DataFrame\n",
    "cov_matrix = df.cov()\n",
    "print(\"Covariance matrix:\\n\", cov_matrix)\n"
   ]
  },
  {
   "cell_type": "markdown",
   "id": "87194d43",
   "metadata": {},
   "source": [
    "### Przykład 6. Odchylenie standardowe\n",
    "Odchylenie standardowe jest miarą ilości zmienności lub rozproszenia zbioru wartości. Jest to pierwiastek kwadratowy z wariancji i jest wyrażony w tych samych jednostkach co dane. Wyższe odchylenie standardowe wskazuje na większą zmienność danych, podczas gdy niższe odchylenie standardowe wskazuje na mniejszą zmienność. W Pandas możemy obliczyć odchylenie standardowe DataFrame lub Series za pomocą funkcji `std()`, która zwraca odchylenie standardowe danych."
   ]
  },
  {
   "cell_type": "code",
   "execution_count": 69,
   "id": "cc4c5f01",
   "metadata": {},
   "outputs": [],
   "source": [
    "# Utworzenie Series\n",
    "s = pd.Series([1, 2, 3, 4, 5, 6, 7, 8, 9])"
   ]
  },
  {
   "cell_type": "code",
   "execution_count": 70,
   "id": "7a08ad88",
   "metadata": {},
   "outputs": [
    {
     "name": "stdout",
     "output_type": "stream",
     "text": [
      "Standard deviation: 2.7386127875258306\n"
     ]
    }
   ],
   "source": [
    "# Obliczanie odchylenia standardowego\n",
    "std = s.std()\n",
    "print(\"Standard deviation:\", std)\n"
   ]
  },
  {
   "cell_type": "markdown",
   "id": "31c779ec",
   "metadata": {},
   "source": [
    "### Przykład 7. Kwantyle\n",
    "Kwantyl jest wartością, która dzieli zbiór danych na grupy o równej wielkości, np. mediana jest kwantylem, który dzieli zbiór danych na dwie równej wielkości grupy. W Pandas możemy obliczyć kwantyle za pomocą funkcji `quantile()`, która zwraca wartość określonego kwantyla dla DataFrame lub Series."
   ]
  },
  {
   "cell_type": "markdown",
   "id": "f4e54049",
   "metadata": {},
   "source": [
    "![wykres-pudelkowy.jpg](https://www.statystyka-zadania.pl/wp-content/uploads/2013/12/wykres-pude%C5%82kowy.png)"
   ]
  },
  {
   "cell_type": "code",
   "execution_count": 63,
   "id": "bac1f27f",
   "metadata": {},
   "outputs": [],
   "source": [
    "# Utworzenie DataFrame\n",
    "s = pd.Series([1, 2, 3, 4, 5])"
   ]
  },
  {
   "cell_type": "code",
   "execution_count": 64,
   "id": "76dd7a89",
   "metadata": {},
   "outputs": [
    {
     "name": "stdout",
     "output_type": "stream",
     "text": [
      "Median: 3.0\n",
      "25th percentile: 2.0\n",
      "75th percentile: 4.0\n"
     ]
    }
   ],
   "source": [
    "# Obliczanie mediany (Q2)\n",
    "median = s.quantile(0.5)\n",
    "print(\"Median:\", median)\n",
    "\n",
    "# Obliczanie kwantylu 0.25 (kwantyl dolny Q1)\n",
    "p25 = s.quantile(0.25)\n",
    "print(\"25th percentile:\", p25)\n",
    "\n",
    "# Obliczanie kwantylu 0.75 (kwantyl górny Q3)\n",
    "p75 = s.quantile(0.75)\n",
    "print(\"75th percentile:\", p75)\n"
   ]
  },
  {
   "cell_type": "markdown",
   "id": "325162fc",
   "metadata": {},
   "source": [
    "### Przykład 8. Skośność\n",
    "Skośność jest miarą asymetrii rozkładu prawdopodobieństwa. Mówimy, że rozkład jest skośny, jeśli nie jest symetryczny. Dodatnia skośność wskazuje, że ogon po prawej stronie rozkładu jest dłuższy lub grubszy niż lewa strona, podczas gdy ujemna skośność wskazuje, że ogon po lewej stronie jest dłuższy lub grubszy niż prawa strona.\n",
    "\n",
    "W Pandas możemy obliczyć skośność DataFrame lub Series za pomocą funkcji `skew()`, która zwraca skośność danych."
   ]
  },
  {
   "cell_type": "markdown",
   "id": "268b5757",
   "metadata": {},
   "source": [
    "![skosnosc.jpg](https://www.predictivesolutions.pl/uploads/blog/Kurtoza/wykres_1-newB.png)"
   ]
  },
  {
   "cell_type": "code",
   "execution_count": 65,
   "id": "6e8c4e35",
   "metadata": {},
   "outputs": [],
   "source": [
    "# Utworzenie DataFrame\n",
    "s = pd.Series([1, 2, 3, 4, 5, 6, 7, 8, 9])"
   ]
  },
  {
   "cell_type": "code",
   "execution_count": 66,
   "id": "1fdaa623",
   "metadata": {},
   "outputs": [
    {
     "name": "stdout",
     "output_type": "stream",
     "text": [
      "Skewness: 0.0\n"
     ]
    }
   ],
   "source": [
    "# Obliczanie skośności, 0 - rozkład symetryczny\n",
    "skewness = s.skew()\n",
    "print(\"Skewness:\", skewness)"
   ]
  },
  {
   "cell_type": "markdown",
   "id": "aae8bea0",
   "metadata": {},
   "source": [
    "### Przykład 9. Kurtoza\n",
    "Kurtoza jest miarą „wysokości” lub „płaskości” rozkładu prawdopodobieństwa w stosunku do rozkładu normalnego. Rozkład z dodatnią kurtozą ma ostrzejszy pik i cięższe ogony niż rozkład normalny, podczas gdy rozkład z ujemną kurtozą ma bardziej płaski pik i jaśniejsze ogony niż rozkład normalny.\n",
    "\n",
    "W Pandas możemy obliczyć kurtozę DataFrame lub Series za pomocą funkcji  `kurtosis()`, która zwraca kurtozę danych."
   ]
  },
  {
   "cell_type": "markdown",
   "id": "ff67292c",
   "metadata": {},
   "source": [
    "![kurtoza.jpg](https://statystycznie-istotne.pl/wp-content/uploads/2017/02/kurtoza2.png)"
   ]
  },
  {
   "cell_type": "code",
   "execution_count": 67,
   "id": "5609a917",
   "metadata": {},
   "outputs": [],
   "source": [
    "# Utworzenie DataFrame\n",
    "s = pd.Series([1, 2, 3, 4, 5, 6, 7, 8, 9])"
   ]
  },
  {
   "cell_type": "code",
   "execution_count": 68,
   "id": "deef9fd3",
   "metadata": {},
   "outputs": [
    {
     "name": "stdout",
     "output_type": "stream",
     "text": [
      "Kurtosis: -1.1999999999999997\n"
     ]
    }
   ],
   "source": [
    "# Obliczanie kurtozy, 0 - dla rozkładu normalnego\n",
    "kurtosis = s.kurtosis()\n",
    "print(\"Kurtosis:\", kurtosis)\n"
   ]
  },
  {
   "cell_type": "markdown",
   "id": "8379fb9e",
   "metadata": {},
   "source": [
    "# 2. Rozkład normalny"
   ]
  },
  {
   "cell_type": "markdown",
   "id": "b884da32",
   "metadata": {},
   "source": [
    "Rozkład normalny (Gaussa) to ciągły rozkład prawdopodobieństwa opisujący prawdopodobieństwo przyjęcia przez zmienną losową zakresu wartości. Rozkład normalny jest symetryczny i ma kształt dzwonu, przy czym większość danych skupia się wokół wartości średniej, a ogony rozkładu rozciągają się w nieskończoność.\n",
    "\n",
    "Rozkład normalny charakteryzuje się dwoma parametrami: średnią (μ) i odchyleniem standardowym (σ). Średnia jest środkiem rozkładu, a odchylenie standardowe kontroluje rozkład danych. Funkcja gęstości prawdopodobieństwa (PDF) rozkładu normalnego jest określona następującym wzorem:\n",
    "\n",
    "`f(x) = (1 / (σ * sqrt(2π))) * exp(-((x - μ)^2 / (2 * σ^2)))`\n",
    "\n",
    "gdzie x to zmienna losowa, μ to średnia, σ to odchylenie standardowe, π to stała matematyczna pi, a exp() to funkcja wykładnicza."
   ]
  },
  {
   "cell_type": "markdown",
   "id": "31ed6b70",
   "metadata": {},
   "source": [
    "![kurtoza.jpg](https://1.bp.blogspot.com/-_p-_y6szOwc/YX00dQ7CIEI/AAAAAAAADEo/3kmXeXA3DMIaD3AFI9k_hRySmF9hW5xiACLcBGAsYHQ/s664/BLOG%2BKurtoza%2BAnatomia%2Brozk%25C5%2582adu.png)"
   ]
  },
  {
   "cell_type": "markdown",
   "id": "edaa20ed",
   "metadata": {},
   "source": [
    "Rozkład normalny jest szeroko stosowany w analizie statystycznej i modelowaniu, a wiele zjawisk naturalnych i zestawów danych można aproksymować za pomocą rozkładu normalnego. Jest również podstawą wielu testów statystycznych i przedziałów ufności, takich jak test t."
   ]
  },
  {
   "cell_type": "markdown",
   "id": "0469eefb",
   "metadata": {},
   "source": [
    "Aby utworzyć rozkład normalny w Pandas, możemy użyć funkcji `numpy.random.normal()` w celu wygenerowania tablicy liczb losowych z rozkładem normalnym, a następnie utworzyć z tej tablicy DataFrame."
   ]
  },
  {
   "cell_type": "code",
   "execution_count": null,
   "id": "3f6e597d",
   "metadata": {},
   "outputs": [],
   "source": [
    "# Wygenerowanie tablicy liczb losowych o rozkładzie normalnym\n",
    "data = np.random.normal(loc=0.0, scale=1.0, size=1000)\n",
    "# loc - średnia rozkładu\n",
    "# scale - odchylenie standardowe\n",
    "# size - liczba wylosowanych liczb losowych"
   ]
  },
  {
   "cell_type": "code",
   "execution_count": 71,
   "id": "e2e777ac",
   "metadata": {},
   "outputs": [
    {
     "name": "stdout",
     "output_type": "stream",
     "text": [
      "     values\n",
      "0 -0.943200\n",
      "1  0.773147\n",
      "2  1.349575\n",
      "3 -0.041653\n",
      "4  0.350314\n"
     ]
    }
   ],
   "source": [
    "# Utworzenie DataFrame z tablicy numpy\n",
    "df = pd.DataFrame(data, columns=['values'])\n",
    "\n",
    "# Wyświetlenie kilku pierwszych wierszy\n",
    "print(df.head())\n"
   ]
  },
  {
   "cell_type": "code",
   "execution_count": 72,
   "id": "23f1f41a",
   "metadata": {},
   "outputs": [
    {
     "name": "stdout",
     "output_type": "stream",
     "text": [
      "            values\n",
      "count  1000.000000\n",
      "mean      0.001324\n",
      "std       1.000336\n",
      "min      -3.934353\n",
      "25%      -0.648929\n",
      "50%       0.013671\n",
      "75%       0.640206\n",
      "max       2.882171\n"
     ]
    }
   ],
   "source": [
    "print(df.describe())"
   ]
  },
  {
   "cell_type": "code",
   "execution_count": 73,
   "id": "0da723f8",
   "metadata": {},
   "outputs": [
    {
     "data": {
      "text/plain": [
       "array([[<AxesSubplot: title={'center': 'values'}>]], dtype=object)"
      ]
     },
     "execution_count": 73,
     "metadata": {},
     "output_type": "execute_result"
    },
    {
     "data": {
      "image/png": "[encoded data removed]",
      "text/plain": [
       "<Figure size 640x480 with 1 Axes>"
      ]
     },
     "metadata": {},
     "output_type": "display_data"
    }
   ],
   "source": [
    "# Wyrysowanie histogramu\n",
    "df.hist(bins=20)\n",
    "# bins - zakres wartości na przedziały"
   ]
  },
  {
   "cell_type": "code",
   "execution_count": 75,
   "id": "2fe6940f",
   "metadata": {},
   "outputs": [
    {
     "data": {
      "image/png": "[encoded data removed]",
      "text/plain": [
       "<Figure size 600x600 with 1 Axes>"
      ]
     },
     "metadata": {},
     "output_type": "display_data"
    }
   ],
   "source": [
    "# Wyrysowanie wykresu Q-Q\n",
    "fig, ax = plt.subplots(figsize=(6, 6))\n",
    "qqplot(data, line='s', ax=ax)\n",
    "# line='s' - wyrysowanie prostej dla porównania\n",
    "\n",
    "# Opis wykresu\n",
    "ax.set_xlabel('Theoretical Quantiles')\n",
    "ax.set_ylabel('Sample Quantiles')\n",
    "ax.set_title('Q-Q plot of a Normal Distribution')\n",
    "\n",
    "plt.show()"
   ]
  },
  {
   "cell_type": "markdown",
   "id": "535f0e4c",
   "metadata": {},
   "source": [
    "### Jak sprawdzić typ rozkładu naszych danych?"
   ]
  },
  {
   "cell_type": "markdown",
   "id": "1c1937b1",
   "metadata": {},
   "source": [
    "Istnieje wiele metod sprawdzania typu dystrybucji zestawu danych. Oto kilka typowych metod:\n",
    "\n",
    "- Histogram - jest graficzną reprezentacją rozkładu częstotliwości zbioru danych. Patrząc na kształt histogramu, często można zorientować się, jaki jest typ rozkładu. Na przykład, jeśli histogram ma krzywą w kształcie dzwonu, rozkład może być normalny\n",
    "\n",
    "- Wykres kwantylowo-kwantylowy (Q-Q)- to graficzna metoda porównywania rozkładu zbioru danych z rozkładem teoretycznym. Jeśli punkty na wykresie leżą blisko linii prostej, zbiór danych prawdopodobnie będzie zgodny z rozkładem teoretycznym\n",
    "\n",
    "- Skośność i kurtoza - to miary kształtu rozkładu. Rozkład normalny ma skośność 0 i kurtozę 3. Jeśli skośność jest dodatnia, rozkład jest skośny w prawo, a jeśli skośność jest ujemna, rozkład jest skośny w lewo. Jeśli kurtoza jest większa niż 3, rozkład ma więcej wartości ekstremalnych niż rozkład normalny, a jeśli kurtoza jest mniejsza niż 3, rozkład ma mniej wartości ekstremalnych\n",
    "\n",
    "- Test Shapiro-Wilka - to test statystyczny sprawdzający, czy zbiór danych ma rozkład normalny. Jeśli wartość p testu jest mniejsza niż 0,05, zbiór danych nie ma rozkładu normalnego"
   ]
  },
  {
   "cell_type": "markdown",
   "id": "3854f516",
   "metadata": {},
   "source": [
    "UWAGA: ważne jest, aby użyć wielu metod do potwierdzenia typu dystrybucji, ponieważ różne metody mogą dawać różne wyniki. Np. test Shapiro-Wilka nie zawsze jest wystarczająco silny, aby wykryć odchylenia od normalności, szczególnie w przypadku małych próbek. Dlatego zaleca się uzupełnienie tego testu wizualną inspekcją danych, taką jak histogramy lub wykresy Q-Q, aby sprawdzić założenia dotyczące normalności."
   ]
  },
  {
   "cell_type": "markdown",
   "id": "fc3a38c5",
   "metadata": {},
   "source": [
    "# 3. Centralne twierdzenie graniczne"
   ]
  },
  {
   "cell_type": "markdown",
   "id": "f80697a7",
   "metadata": {},
   "source": [
    "Centralne twierdzenie graniczne jest podstawową koncepcją w statystyce. Mówi ono, że:\n",
    "\n",
    "- jeśli będziemy losować z populacji wiele próbek, to rozkład średnich z tych próbek będzie zbliżony do rozkładu normalnego, nawet jeśli rozkład danej właściwości w populacji nie ma rozkładu normalnego\n",
    "\n",
    "- średnia z tych średnich będzie taka sama lub bardzo zbliżona do średniej w populacji\n",
    "\n",
    "- wartość błędu standardowego z tego rozkładu będzie tym mniejsza, im większe będą losowane próbki\n",
    "\n",
    "Innymi słowy, jeśli weźmiesz wystarczająco dużą próbkę z dowolnego rozkładu ze skończoną średnią i wariancją, średnia próbki będzie miała rozkład normalny. "
   ]
  },
  {
   "cell_type": "markdown",
   "id": "2d8a4ef2",
   "metadata": {},
   "source": [
    "![kurtoza.jpg](https://blogger.googleusercontent.com/img/b/R29vZ2xl/AVvXsEhcuum9bD6kDLzRH_nndIcvLVE1yvlReAtR9KgT_YkUwRtLkQl6nMu9dcU7CaRgAUpuEBl37AkUH7JPSSuevLfMYSmA5mocwgcJT3HjYK3U-HwmPNa8OWYduOGHzHHcv_Xx4noOF-utlX0c730nxay3XrH0FRBQuDHM2I796saYhg73i2bHb_XEZg/s1920/BLOG%20CTG%20trzy%20rozk%C5%82ady.png)\n"
   ]
  },
  {
   "cell_type": "markdown",
   "id": "5dd10607",
   "metadata": {},
   "source": [
    "Centralne twierdzenie graniczne jest niezwykle przydatne we wnioskowaniu statystycznym i testowaniu hipotez, ponieważ pozwala nam przyjmować założenia dotyczące populacji na podstawie rozkładu średnich z próby. Jest ono również ważne, ponieważ pomaga wyjaśnić, dlaczego wiele rzeczywistych zjawisk można modelować za pomocą rozkładu normalnego, nawet jeśli poszczególne obserwacje nie mają rozkładu normalnego."
   ]
  },
  {
   "cell_type": "markdown",
   "id": "c4181a0d",
   "metadata": {},
   "source": [
    "Przykład z życia:\n",
    "\n",
    "Chcemy poznać średni wzrost wszystkich studentów na uniwersytecie. Wybieramy losowo próbę 100 uczniów i mierzymy ich wzrost, a następnie obliczamy średnią wzrostu w próbie.\n",
    "\n",
    "Zgodnie z centralnym twierdzeniem granicznym, wraz ze wzrostem wielkości próby rozkład średnich próby zbliża się do rozkładu normalnego. Jeśli więc powtórzyć ten proces wiele razy, za każdym razem wybierając losowo inną próbę 100 uczniów i obliczając średni wzrost, rozkład tych średnich utworzyłby krzywą w kształcie dzwonu, przy czym większość średnich skupiłaby się wokół rzeczywistego średni wzrost populacji.\n",
    "\n",
    "Pozwala to na wnioskowanie statystyczne o średnim wzroście populacji w oparciu o średni wzrost z próby, przy użyciu narzędzi takich jak przedziały ufności i testowanie hipotez."
   ]
  },
  {
   "cell_type": "code",
   "execution_count": 87,
   "id": "513d19fd",
   "metadata": {},
   "outputs": [
    {
     "data": {
      "image/png": "[encoded data removed]",
      "text/plain": [
       "<Figure size 640x480 with 1 Axes>"
      ]
     },
     "metadata": {},
     "output_type": "display_data"
    }
   ],
   "source": [
    "# Przykład\n",
    "\n",
    "# Wygenerowanie losowych danych z rozkładu innego niż normalny (wykładniczy)\n",
    "data = np.random.exponential(size=1000)\n",
    "\n",
    "# Utworzenie listy do przechowywania przykładowych średnich\n",
    "means = []\n",
    "\n",
    "# Wybór 1000 próbek o rozmiarze 50 i obliczenie średnich\n",
    "for i in range(1000):\n",
    "    sample = np.random.choice(data, size=50, replace=True)\n",
    "    means.append(sample.mean())\n",
    "\n",
    "# Wyrysowanie histogramu średnich z próby\n",
    "plt.hist(means, bins=30, density=True, alpha=0.5, color='blue')\n",
    "\n",
    "# Wyrysowanie rozkładu normalnego z taką samą średnią i wariancją jak średnie z próby\n",
    "mu = np.mean(means)\n",
    "sigma = np.std(means)\n",
    "x = np.linspace(mu - 3*sigma, mu + 3*sigma, 100)\n",
    "plt.plot(x, 1/(sigma * np.sqrt(2 * np.pi)) * np.exp(-(x - mu)**2 / (2 * sigma**2)), color='red')\n",
    "\n",
    "# Opis wykresu\n",
    "plt.xlabel('Sample Mean')\n",
    "plt.ylabel('Density')\n",
    "plt.title('Central Limit Theorem Example')\n",
    "\n",
    "plt.show()\n"
   ]
  },
  {
   "cell_type": "markdown",
   "id": "f13a7a97",
   "metadata": {},
   "source": [
    "# 4. Testy statystyczne"
   ]
  },
  {
   "cell_type": "markdown",
   "id": "2f3561dd",
   "metadata": {},
   "source": [
    "Testy statystyczne to metody stosowane do analizowania danych i wyciągania wniosków na temat populacji na podstawie próby. Testy te można wykorzystać do określenia, czy istnieje znacząca różnica między dwiema grupami, czy istnieje związek między dwiema zmiennymi lub czy obserwowany efekt jest prawdopodobnie spowodowany przypadkiem. "
   ]
  },
  {
   "cell_type": "markdown",
   "id": "d0442a9e",
   "metadata": {},
   "source": [
    "Istnieje wiele różnych rodzajów testów statystycznych, z których każdy ma swój własny cel i założenia, np.:\n",
    "\n",
    "- Test Shapiro-Wilka jest często używany w testowaniu hipotez i analizie danych w celu określenia, czy parametryczne testy statystyczne, takie jak test t lub ANOVA, są odpowiednie dla danego zestawu danych. Jeśli okaże się, że dane nie mają rozkładu normalnego, bardziej odpowiednie mogą być testy nieparametryczne, takie jak test U Manna-Whitneya lub test Kruskala-Wallisa\n",
    "\n",
    "- Testy t są używane do porównywania średnich dwóch grup danych ciągłych\n",
    "\n",
    "- ANOVA (Analiza wariancji) jest używana do porównywania średnich z więcej niż dwóch grup ciągłych danych"
   ]
  },
  {
   "cell_type": "markdown",
   "id": "55c53ecd",
   "metadata": {},
   "source": [
    "### Test Shapiro - Wilka"
   ]
  },
  {
   "cell_type": "markdown",
   "id": "b63e4b10",
   "metadata": {},
   "source": [
    "Test został opracowany przez Samuela Shapiro i Martina Wilka w 1965 roku. Jest to test statystycznym służącym do określenia, czy dany zbiór danych ma rozkład normalny, czy nie. \n",
    "\n",
    "Test polega na porównaniu obserwowanego rozkładu danych z oczekiwanym rozkładem danych przy założeniu, że rozkład danych jest normalny. Hipotezą zerową testu jest to, że dane mają rozkład normalny, a hipotezą alternatywną jest to, że dane nie mają rozkładu normalnego:\n",
    "\n",
    "H0: dane mają rozkład normalny\n",
    "\n",
    "HA: dane nie mają rozkładu normalnego\n",
    "\n",
    "Test Shapiro-Wilka jest odpowiedni dla małych próbek (zazwyczaj mniej niż 50). W przypadku większych próbek odpowiednie mogą być inne testy, np. test Andersona-Darlinga lub test Kołmogorowa-Smirnowa."
   ]
  },
  {
   "cell_type": "code",
   "execution_count": 93,
   "id": "9fd1c601",
   "metadata": {},
   "outputs": [
    {
     "name": "stdout",
     "output_type": "stream",
     "text": [
      "Test statistic: 0.9868, p-value: 0.9672\n"
     ]
    }
   ],
   "source": [
    "# Utworzenie DataFrame\n",
    "data = pd.DataFrame({\n",
    "    'A': [1, 2, 3, 4, 5],\n",
    "    'B': [6, 7, 8, 9, 10]\n",
    "})\n",
    "\n",
    "# Implementacja testu Shapiro-Wilk na kolumnie A\n",
    "# UWAGA: funkcji shapiro() można używać tylko do testowania pojedynczej kolumny na raz\n",
    "# Aby przetestować wiele kolumn, używamy pętli lub metody apply()\n",
    "stat, p = shapiro(data['A'])\n",
    "\n",
    "print(f\"Test statistic: {stat:.4f}, p-value: {p:.4f}\")\n"
   ]
  },
  {
   "cell_type": "markdown",
   "id": "b018cfc7",
   "metadata": {},
   "source": [
    "Interpretacja testu Shapiro-Wilka:\n",
    "\n",
    "Porównujemy wartości p-value uzyskanej w teście z określonym z góry poziomem istotności alfa (zwykle 0,05) w celu ustalenia, czy odrzucamy lub nie odrzucamy hipotezy zerowej.\n",
    "\n",
    "Jeśli wartość p-value jest większa niż wybrany poziom alfa, to nie możemy odrzucić hipotezy zerowej, co oznacza, że dane mają rozkład normalny. Jeśli wartość p jest mniejsza lub równa poziomowi alfa, odrzucamy hipotezę zerową, co oznacza, że dane nie mają rozkładu normalnego."
   ]
  },
  {
   "cell_type": "markdown",
   "id": "278f8c2a",
   "metadata": {},
   "source": [
    "### Test t"
   ]
  },
  {
   "cell_type": "markdown",
   "id": "a874eb84",
   "metadata": {},
   "source": [
    "Test t jest testem statystycznym używanym do określenia, czy istnieje istotna różnica między średnimi dwóch grup danych. Jest to test hipotezy, który porównuje średnie z dwóch próbek w celu sprawdzenia, czy różnią się one znacząco od siebie, biorąc pod uwagę wielkość próby i wariancję. Jest to test parametryczny, w którym zakłada się, że dane mają rozkład normalny i że wariancje dwóch próbek są równe (w przypadku testu t próbek niezależnych). Test t służy do porównywania średnich z dwóch próbek, ale może być również używany do testowania różnicy między średnią próbki a znaną średnią populacji.\n",
    "\n",
    "UWAGA: Nie można porównywać ze sobą kilku grup, wykonując kilkukrotnie test t-Studenta.\n",
    "\n",
    "Test t polega na obliczeniu wartości t, która jest wyprowadzana z różnicy między średnimi z dwóch grup i błędu standardowego różnicy:\n",
    "\n",
    "`t = (x1 - x2) / (s / sqrt(n))`\n",
    "\n",
    "- x1 i x2 to średnie z dwóch próbek \n",
    "- (s / sqrt(n)) to błąd standardowy różnicy\n",
    "- s to odchylenie standardowe połączonych próbek \n",
    "- n to wielkość próby \n",
    "\n",
    "Wartość t porównuje się z wartością krytyczną z rozkładu t o pewnym stopniu swobody, który zależy od wielkości próby i wybranego poziomu istotności alfa (zwykle 0,05), w celu określenia, czy istnieje znacząca różnica między średnimi z dwóch próbek."
   ]
  },
  {
   "cell_type": "markdown",
   "id": "7338ae28",
   "metadata": {},
   "source": [
    "Istnieją dwa główne typy testów t: test t dla prób niezależnych i dla prób sparowanych. Test t dla próbek niezależnych porównuje średnie dwóch niezależnych grup, test t dla próbek sparowanych porównuje średnie dwóch zależnych lub sparowanych grup."
   ]
  },
  {
   "cell_type": "markdown",
   "id": "ef12460c",
   "metadata": {},
   "source": [
    "Przykład z życia: \n",
    "\n",
    "Chcemy ustalić, czy istnieje znacząca różnica w średnim wzroście mężczyzn i kobiet w populacji. Zbieramy losową próbę 50 mężczyzn i 50 kobiet i mierzymy ich wzrost w centymetrach.\n",
    "\n",
    "Naszą hipotezą zerową byłoby, że średni wzrost kobiet i mężczyzn jest równy, podczas gdy naszą hipotezą alternatywną byłoby, że średni wzrost mężczyzn i kobiet nie jest równy.\n",
    "\n",
    "Następnie przeprowadzilibyśmy test t niezależnych próbek, aby ustalić, czy średni wzrost mężczyzn i kobiet znacznie się różni. Jeśli obliczona wartość t jest większa niż wartość krytyczna na wybranym poziomie istotności (np. 0,05), odrzucilibyśmy hipotezę zerową i stwierdzilibyśmy, że istnieje znacząca różnica średniego wzrostu między mężczyznami i kobietami. Jeśli obliczona wartość t jest mniejsza niż wartość krytyczna, nie odrzucilibyśmy hipotezy zerowej i nie stwierdzilibyśmy, że nie ma znaczącej różnicy w średnim wzroście między mężczyznami i kobietami."
   ]
  },
  {
   "cell_type": "code",
   "execution_count": 95,
   "id": "09532bf9",
   "metadata": {},
   "outputs": [
    {
     "name": "stdout",
     "output_type": "stream",
     "text": [
      "t-value: -5.0\n",
      "p-value: 0.001052825793366539\n"
     ]
    }
   ],
   "source": [
    "# Utworzenie dwóch próbek danych\n",
    "data1 = pd.Series([1, 2, 3, 4, 5])\n",
    "data2 = pd.Series([6, 7, 8, 9, 10])\n",
    "\n",
    "# Implementacja testu t (dla niezależnych próbek)\n",
    "t, p = ttest_ind(data1, data2)\n",
    "\n",
    "print(\"t-value:\", t)\n",
    "print(\"p-value:\", p)\n"
   ]
  },
  {
   "cell_type": "markdown",
   "id": "9d695db1",
   "metadata": {},
   "source": [
    "Interpretacja testu t:\n",
    "\n",
    "Wartość p-value reprezentuje prawdopodobieństwo uzyskania wartości t jako ekstremalnej lub bardziej ekstremalnej niż obserwowana wartość t, przy założeniu, że że hipoteza zerowa jest prawdziwa.\n",
    "\n",
    "Wyniki testu t możemy interpretować, porównując wartość p z wybranym poziomem istotności alfa (np. 0,05). Jeśli wartość p-value jest mniejsza niż poziom istotności, możemy odrzucić hipotezę zerową i stwierdzić, że istnieje znacząca różnica między średnimi z dwóch grup. Jeśli wartość p-value jest większa niż poziom istotności, nie możemy odrzucić hipotezy zerowej i stwierdzić, że nie ma istotnej różnicy między średnimi z dwóch grup.\n",
    "\n",
    "Jeśli obliczona wartość t jest większa niż wartość krytyczna, możemy odrzucić hipotezę zerową i stwierdzić, że istnieje znacząca różnica między średnimi z dwóch grup. Jeśli obliczona wartość t jest mniejsza niż wartość krytyczna, nie możemy odrzucić hipotezy zerowej i stwierdzić, że nie ma istotnej różnicy między średnimi z dwóch grup.    "
   ]
  },
  {
   "cell_type": "markdown",
   "id": "b51bceb8",
   "metadata": {},
   "source": [
    "### ANOVA"
   ]
  },
  {
   "cell_type": "markdown",
   "id": "840b5b87",
   "metadata": {},
   "source": [
    "ANOVA oznacza analizę wariancji. Jest to metoda statystyczna używana do sprawdzania, czy średnie dwóch lub więcej grup są równe, czy nie.\n",
    "\n",
    "Test ANOVA polega na porównaniu wariancji między grupami (różnice średnich między grupami) z wariancją wewnątrz grup (zmienność każdej indywidualnej grupy). Jeśli wariancja między grupami jest większa niż wariancja wewnątrz grup, to prawdopodobne jest, że średnie grup nie są równe i istnieje między nimi znacząca różnica.\n",
    "\n",
    "ANOVA może jedynie powiedzieć, czy istnieją znaczące różnice między grupami, ale nie mówi, które konkretne czynniki lub zmienne powodują te różnice. Dodatkowo ANOVA zakłada, że dane mają rozkład normalny i równe wariancje między grupami.\n",
    "\n",
    "Istnieje kilka różnych typów testów ANOVA, w tym jednokierunkowa ANOVA, dwukierunkowa ANOVA i ANOVA z powtarzanymi pomiarami. Wybór testu ANOVA do zastosowania zależy od pytania badawczego i projektu badania. \n",
    "\n",
    "ANOVA pozwala naukowcom określić, czy istnieją znaczące różnice między wieloma grupami, co może pomóc w podejmowaniu decyzji dotyczących interwencji terapeutycznych lub manipulacji eksperymentalnych."
   ]
  },
  {
   "cell_type": "markdown",
   "id": "97e9c32a",
   "metadata": {},
   "source": [
    "Przykład z życia: \n",
    "    \n",
    "Chcemy sprawdzić, czy istnieje różnica w średnich wynikach trzech różnych grup badawczych w teście z matematyki. Te trzy grupy to: grupa kontrolna, która nie otrzymała żadnej interwencji, grupa, która otrzymała przewodnik do nauki i grupa, która otrzymała indywidualne korepetycje. Każda grupa liczyła 30 uczestników.\n",
    "\n",
    "Aby przeprowadzić ANOVA, najpierw obliczamy średni wynik dla każdej grupy:\n",
    "\n",
    "Średnia grupy kontrolnej: 75\n",
    "Średnia grupy z przewodnikiem: 85\n",
    "Średnia grupy korzystającej z korepetycji: 90\n",
    "\n",
    "Obliczmy również wariancję w obrębie każdej grupy i wariancję między grupami.\n",
    "\n",
    "Jeśli wariancja między grupami jest znacznie większa niż wariancja wewnątrz grup, to istnieje znacząca różnica w średnich wynikach trzech grup. W takim przypadku możemy przeprowadzić dodatkowe testy statystyczne, aby określić, które grupy istotnie różnią się od siebie."
   ]
  },
  {
   "cell_type": "code",
   "execution_count": 98,
   "id": "654faa8d",
   "metadata": {},
   "outputs": [
    {
     "name": "stdout",
     "output_type": "stream",
     "text": [
      "          sum_sq   df     F    PR(>F)\n",
      "C(group)   450.0  2.0  12.5  0.007251\n",
      "Residual   108.0  6.0   NaN       NaN\n"
     ]
    }
   ],
   "source": [
    "# Utworzenie próbek danych\n",
    "data = {'group': ['control', 'control', 'control', 'treatment', 'treatment', 'treatment', 'new_treatment', 'new_treatment', 'new_treatment'], \n",
    "        'score': [70, 80, 75, 90, 85, 95, 88, 92, 90]}\n",
    "df = pd.DataFrame(data)\n",
    "\n",
    "# Implementacja modelu ANOVA\n",
    "# Używamy funkcji ols() w celu dopasowania modelu ANOVA do danych metodą najmniejszych kwadratów (OLS)\n",
    "# Grupa jako zmienna predykcyjna jakościowa i ocena jako zmienna zależna\n",
    "model = ols('score ~ C(group)', data=df).fit()\n",
    "\n",
    "# Test ANOVA\n",
    "#Argument typ=2 określa, że chcemy użyć metody sumy kwadratów typu II, \n",
    "# Jest ona często zalecana w przypadku interakcji między zmiennymi predykcyjnymi\n",
    "anova_table = sm.stats.anova_lm(model, typ=2)\n",
    "\n",
    "print(anova_table)\n"
   ]
  },
  {
   "cell_type": "markdown",
   "id": "86c139b9",
   "metadata": {},
   "source": [
    "Interpretacja ANOVA:\n",
    "\n",
    "Podczas przeprowadzania ANOVA celem jest ustalenie, czy istnieją znaczące różnice między średnimi dwóch lub więcej grup. Dane wyjściowe testu ANOVA zazwyczaj obejmują statystykę F, stopnie swobody i wartość p w celu ustalenia, czy istnieje znacząca różnica między średnimi porównywanych grup.\n",
    "\n",
    "Statystyka F mierzy stosunek wariancji między grupami do wariancji wewnątrz grup. Jeśli statystyka F jest duża, a wartość p-value jest mała (zwykle mniejsza niż 0,05), sugeruje to, że istnieje znacząca różnica między średnimi grup."
   ]
  },
  {
   "cell_type": "code",
   "execution_count": null,
   "id": "83b544e3",
   "metadata": {},
   "outputs": [],
   "source": []
  }
 ],
 "metadata": {
  "kernelspec": {
   "display_name": "Python 3 (ipykernel)",
   "language": "python",
   "name": "python3"
  },
  "language_info": {
   "codemirror_mode": {
    "name": "ipython",
    "version": 3
   },
   "file_extension": ".py",
   "mimetype": "text/x-python",
   "name": "python",
   "nbconvert_exporter": "python",
   "pygments_lexer": "ipython3",
   "version": "3.9.7"
  }
 },
 "nbformat": 4,
 "nbformat_minor": 5
}
